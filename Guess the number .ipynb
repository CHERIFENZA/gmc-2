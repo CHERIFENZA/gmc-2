{
 "cells": [
  {
   "cell_type": "code",
   "execution_count": 3,
   "id": "c787e70e",
   "metadata": {},
   "outputs": [],
   "source": [
    "import random "
   ]
  },
  {
   "cell_type": "markdown",
   "id": "68cdc022",
   "metadata": {},
   "source": [
    "# guess the number"
   ]
  },
  {
   "cell_type": "code",
   "execution_count": null,
   "id": "5d30d3f4",
   "metadata": {},
   "outputs": [],
   "source": [
    "#Nombre gagnant\n",
    "ng = random.randint (1,100)\n",
    "print (ng)\n",
    "while True :\n",
    "    #Nombre user\n",
    "    nu = int(input(\"donner un nombre entre 1 et 100\"))\n",
    "\n",
    "    if nu < ng:\n",
    "        print('petit')\n",
    "    elif nu > ng:\n",
    "        print('grand')\n",
    "    else:\n",
    "        print('gagné')\n",
    "        break"
   ]
  },
  {
   "cell_type": "code",
   "execution_count": null,
   "id": "c874076f",
   "metadata": {},
   "outputs": [
    {
     "name": "stdout",
     "output_type": "stream",
     "text": [
      "81\n",
      "donner un nombre entre 1 et 10099\n",
      "grand\n",
      "donner un nombre entre 1 et 10096\n",
      "grand\n",
      "donner un nombre entre 1 et 10012\n",
      "petit\n"
     ]
    }
   ],
   "source": [
    "#Nombre gagnant\n",
    "ng = random.randint(1,100)\n",
    "print (ng)\n",
    "while True :\n",
    "    #Nombre user\n",
    "    nu = int(input(\"donner un nombre entre 1 et 100\"))\n",
    "\n",
    "    if nu < ng:\n",
    "        print('petit')\n",
    "    elif nu > ng:\n",
    "        print('grand')\n",
    "    else:\n",
    "        print('gagné')\n",
    "        break"
   ]
  },
  {
   "cell_type": "code",
   "execution_count": null,
   "id": "eda34728",
   "metadata": {},
   "outputs": [],
   "source": []
  }
 ],
 "metadata": {
  "kernelspec": {
   "display_name": "Python 3 (ipykernel)",
   "language": "python",
   "name": "python3"
  },
  "language_info": {
   "codemirror_mode": {
    "name": "ipython",
    "version": 3
   },
   "file_extension": ".py",
   "mimetype": "text/x-python",
   "name": "python",
   "nbconvert_exporter": "python",
   "pygments_lexer": "ipython3",
   "version": "3.10.9"
  }
 },
 "nbformat": 4,
 "nbformat_minor": 5
}
